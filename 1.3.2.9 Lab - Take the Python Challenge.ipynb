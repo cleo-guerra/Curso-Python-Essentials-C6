{
 "cells": [
  {
   "cell_type": "markdown",
   "metadata": {},
   "source": [
    "![Título](Images/cisco.png)"
   ]
  },
  {
   "cell_type": "markdown",
   "metadata": {},
   "source": [
    "# Práctica de laboratorio: Realice el desafío de Python \n",
    "\n",
    "\n",
    "Este es un ejercicio opcional para probar su conocimiento de los principios básicos de Python. Sin embargo, recomendamos fervientemente que el estudiante complete estos ejercicios para prepararse para el resto de este curso. Si no sabe cómo resolverlos, fíjese en las lecciones de Python disponibles en la carpeta de Materiales del curso/tutoriales y demostraciones."
   ]
  },
  {
   "cell_type": "markdown",
   "metadata": {},
   "source": [
    "#### Datos Estudiante "
   ]
  },
  {
   "cell_type": "markdown",
   "metadata": {},
   "source": [
    "Nombre: Guerra Cleopatra Yomara"
   ]
  },
  {
   "cell_type": "markdown",
   "metadata": {},
   "source": [
    "Fecha: 2021/08/04"
   ]
  },
  {
   "cell_type": "markdown",
   "metadata": {},
   "source": [
    "#### Responda las preguntas o complete las tareas detalladas a continuación; utilice el método específico descrito, si corresponde."
   ]
  },
  {
   "cell_type": "markdown",
   "metadata": {},
   "source": [
    "#### 1) ¿Cuánto es 3 a la potencia de 5?"
   ]
  },
  {
   "cell_type": "code",
   "execution_count": 3,
   "metadata": {},
   "outputs": [
    {
     "name": "stdout",
     "output_type": "stream",
     "text": [
      "La potencia de 3^5 es: 243\n"
     ]
    }
   ],
   "source": [
    "# Code cell 1\n",
    "a = 3**5\n",
    "print('La potencia de 3^5 es:', a)"
   ]
  },
  {
   "cell_type": "markdown",
   "metadata": {},
   "source": [
    "#### 2) Cree una variable, *'s'*, que contenga la cadena \"¡Este curso es increíble!\". Con la variable, divida la cadena en una lista."
   ]
  },
  {
   "cell_type": "code",
   "execution_count": 1,
   "metadata": {},
   "outputs": [
    {
     "name": "stdout",
     "output_type": "stream",
     "text": [
      "Este curso es increíble!\n"
     ]
    },
    {
     "data": {
      "text/plain": [
       "['Este', 'curso', 'es', 'increíble!']"
      ]
     },
     "execution_count": 1,
     "metadata": {},
     "output_type": "execute_result"
    }
   ],
   "source": [
    "# Code cell 2\n",
    "#s = ?\n",
    "#?.split()\n",
    "\n",
    "s= 'Este curso es increíble!'\n",
    "print(s)\n",
    "s.split()"
   ]
  },
  {
   "cell_type": "markdown",
   "metadata": {},
   "source": [
    "#### 3) Dadas las variables altura y montaña, use .format() para imprimir la cadena siguiente:\n",
    "<center>‘La altura del Monte Everest es de 8848 metros’.</center>"
   ]
  },
  {
   "cell_type": "code",
   "execution_count": 3,
   "metadata": {},
   "outputs": [
    {
     "name": "stdout",
     "output_type": "stream",
     "text": [
      "La altura del Mt. Everest es de 8848 metros \n"
     ]
    }
   ],
   "source": [
    "# Code cell 3\n",
    "mountain = \"Mt. Everest\"\n",
    "height = 8848\n",
    "print(\"La altura del {} es de {} metros \".format( mountain , height ))\n"
   ]
  },
  {
   "cell_type": "markdown",
   "metadata": {},
   "source": [
    "#### 4) Dada la lista anidada siguiente, use la indexación para tomar la palabra '\"esto\"'."
   ]
  },
  {
   "cell_type": "code",
   "execution_count": 4,
   "metadata": {},
   "outputs": [
    {
     "data": {
      "text/plain": [
       "'this'"
      ]
     },
     "execution_count": 4,
     "metadata": {},
     "output_type": "execute_result"
    }
   ],
   "source": [
    "# Code cell 4\n",
    "lst = ['a','b',[4,10,11],['c',[1,66,['this']],2,111],'e',7]\n",
    "lst[3][1][2][0]"
   ]
  },
  {
   "cell_type": "markdown",
   "metadata": {},
   "source": [
    "#### 5) Dado el diccionario anidado siguiente, tome la palabra \"eso\". Este ejercicio es un poco más difícil."
   ]
  },
  {
   "cell_type": "code",
   "execution_count": 7,
   "metadata": {},
   "outputs": [
    {
     "data": {
      "text/plain": [
       "'that'"
      ]
     },
     "execution_count": 7,
     "metadata": {},
     "output_type": "execute_result"
    }
   ],
   "source": [
    "# Code cell 5\n",
    "d = {'k1':['val1','val2','val3',{'we':['need','to','go',{'deeper':[1,2,3,'that']}]}]}\n",
    "d['k1'][3]['we'][3]['deeper'][3]"
   ]
  },
  {
   "cell_type": "markdown",
   "metadata": {},
   "source": [
    "#### 6) ¿Cuál es la diferencia principal entre una tupla y una lista? "
   ]
  },
  {
   "cell_type": "markdown",
   "metadata": {},
   "source": [
    "Las listas son mutables mientras que una tupla es <b>INMUTABLE</b> (es decir la información <b>NO</b> puede ser modificada)."
   ]
  },
  {
   "cell_type": "code",
   "execution_count": 14,
   "metadata": {},
   "outputs": [
    {
     "name": "stdout",
     "output_type": "stream",
     "text": [
      "\u001b[1;36mLas listas son mutables mientras que una tupla es INMUTABLE (es decir la información NO puede ser modificada)\u001b[0m\n"
     ]
    }
   ],
   "source": [
    "print('\\x1b[1;36m'+'Las listas son mutables mientras que una tupla es INMUTABLE (es decir la información NO puede ser modificada)'+'\\x1b[0m')"
   ]
  },
  {
   "cell_type": "markdown",
   "metadata": {},
   "source": [
    "#### 7) Cree una función, GetDomain(), que tome el dominio del sitio web de correo electrónico de una cadena en la forma: 'user@domain.com'.\n",
    "Por ejemplo, el paso de \"user@domain.com\" daría: domain.com"
   ]
  },
  {
   "cell_type": "code",
   "execution_count": 40,
   "metadata": {},
   "outputs": [
    {
     "name": "stdout",
     "output_type": "stream",
     "text": [
      "El dominio del correo es: \u001b[1mdomain.com\u001b[0m\n"
     ]
    }
   ],
   "source": [
    "# Code cell 6\n",
    "def GetDomain(d):\n",
    "    return (d.split('@'))[-1]\n",
    "b= GetDomain('user@domain.com')\n",
    "print(\"El dominio del correo es:\",'\\033[1m' + b + '\\033[0m')"
   ]
  },
  {
   "cell_type": "markdown",
   "metadata": {},
   "source": [
    "#### 8) Cree una función básica, findInternet(), que dé una devolución de True si la palabra 'Internet' se incluye en la cadena de entrada. No se preocupe por los casos de perímetro como la puntuación que se asocia con la palabra, pero tenga en cuenta el uso de mayúsculas. (Sugerencia: vea https://docs.python.org/2/reference/expressions.html#in)"
   ]
  },
  {
   "cell_type": "code",
   "execution_count": 53,
   "metadata": {},
   "outputs": [
    {
     "name": "stdout",
     "output_type": "stream",
     "text": [
      "El resultado de encontrar INTERNET es: \u001b[1mTrue\u001b[0m\n"
     ]
    }
   ],
   "source": [
    "# Code cell 7\n",
    "def findInternet(exp):\n",
    "    return 'internet' in exp.lower().split()\n",
    "var = findInternet('The Internet Engineering Task Force was created in 1986')\n",
    "var_s = str(var)\n",
    "print(\"El resultado de encontrar INTERNET es:\",'\\033[1m' + var_s + '\\033[0m')"
   ]
  },
  {
   "cell_type": "markdown",
   "metadata": {},
   "source": [
    "#### 9) Cree una función, countIoT(), que cuente la cantidad de veces que la palabra \"IdT\" aparece en una cadena.  Ignore los casos de perímetro pero tenga en cuenta el uso de mayúsculas."
   ]
  },
  {
   "cell_type": "code",
   "execution_count": 50,
   "metadata": {},
   "outputs": [
    {
     "name": "stdout",
     "output_type": "stream",
     "text": [
      "La palabra IoT se encontró: \u001b[1m2\u001b[0m veces\n"
     ]
    }
   ],
   "source": [
    "# Code cell 8\n",
    "def countIoT(st):\n",
    "    count = st.count('IoT')\n",
    "    return count\n",
    "\n",
    "x = countIoT('I don\\'t know how to spell IoT ! Is it IoT or iot ? What does iot mean anyway?')\n",
    "y = str(x)\n",
    "print(\"La palabra IoT se encontró:\",'\\033[1m' + y + '\\033[0m','veces')"
   ]
  },
  {
   "cell_type": "markdown",
   "metadata": {},
   "source": [
    "#### 10) Utilice las expresiones lambda y la función filter() para filtrar las palabras de una lista que no comiencen con la letra 'd'. Por ejemplo:\n",
    "\n",
    "    sec = [“datos”, “sal”, “diario”, “gato”, “perro”]\n",
    "\n",
    "debe ser filtrado a:\n",
    "\n",
    "    ['datos', 'diario']"
   ]
  },
  {
   "cell_type": "code",
   "execution_count": 85,
   "metadata": {},
   "outputs": [],
   "source": [
    "del list"
   ]
  },
  {
   "cell_type": "code",
   "execution_count": 89,
   "metadata": {},
   "outputs": [
    {
     "name": "stdout",
     "output_type": "stream",
     "text": [
      "Los elementos que contienen la letra d son: \n",
      "\n",
      "data\n",
      "dairy\n",
      "dog\n"
     ]
    }
   ],
   "source": [
    "# Code cell 9\n",
    "seq = ['data','salt' ,'dairy','cat', 'dog']\n",
    "lista =list(filter(lambda d: d[0]== 'd', seq))\n",
    "\n",
    "print('Los elementos que contienen la letra d son:','\\n')\n",
    "for item in lista:\n",
    "    print(item)"
   ]
  },
  {
   "cell_type": "markdown",
   "metadata": {},
   "source": [
    "#### 11) Utilice las expresiones lambda y la función map() para convertir una lista de palabras a mayúsculas. Por ejemplo:"
   ]
  },
  {
   "cell_type": "markdown",
   "metadata": {},
   "source": [
    "sec = [“datos”, “sal”, “diario”, “gato”, “perro”]\n",
    "\n",
    "debe ser:\n",
    "\n",
    "   [“DATOS”, “SAL”, “DIARIO”, “GATO”, “PERRO”]"
   ]
  },
  {
   "cell_type": "code",
   "execution_count": 92,
   "metadata": {},
   "outputs": [
    {
     "name": "stdout",
     "output_type": "stream",
     "text": [
      "Elmentos con mayúscula: \n",
      "\n",
      "DATA\n",
      "SALT\n",
      "DAIRY\n",
      "CAT\n",
      "DOG\n"
     ]
    }
   ],
   "source": [
    "# Code cell 10\n",
    "#list(map())\n",
    "seq = ['data','salt' ,'dairy','cat', 'dog']\n",
    "lista_map = list(map(lambda x: x.upper(), seq))\n",
    "\n",
    "print('Elmentos con mayúscula:','\\n')\n",
    "for item in lista_map:\n",
    "    print(item)"
   ]
  },
  {
   "cell_type": "markdown",
   "metadata": {},
   "source": [
    "#### 12) Imagine un termostato inteligente conectado a la puerta que pueda detectar, además de la temperatura, el momento en el que las personas entran o salen de la casa. \n",
    "Escriba una función que, cuando la temperatura sea inferior a 20 ºC y haya personas en la casa (codificado como valor booleano que se envía como parámetro a la función), inicie la calefacción mediante la devolución de la cadena \"calefacción encendida\". Cuando la temperatura llegue a 23 grados o no haya personas en la casa, la función devuelve la cadena \"calefacción apagada\". Cuando no se cumpla ninguna de estas condiciones, la función es \"No hacer nada\"."
   ]
  },
  {
   "cell_type": "code",
   "execution_count": 103,
   "metadata": {},
   "outputs": [],
   "source": [
    "# Code cell 11\n",
    "def smart_thermostat(temp, people_in):\n",
    "    if temp<20 and people_in == 1:\n",
    "        print(\"Calefacción\",'\\033[1m' + 'Encendida' + '\\033[0m')\n",
    "    elif temp == 23 or people_in ==0:\n",
    "        print(\"Calefacción\",'\\033[1m' + 'Apagada' + '\\033[0m')\n",
    "    else:\n",
    "        print('\\033[1m' + 'No haga nada' + '\\033[0m')\n"
   ]
  },
  {
   "cell_type": "code",
   "execution_count": 109,
   "metadata": {},
   "outputs": [
    {
     "name": "stdout",
     "output_type": "stream",
     "text": [
      "\u001b[1mNo haga nada\u001b[0m\n"
     ]
    }
   ],
   "source": [
    "# Code cell 12\n",
    "#Verify smart_thermostat()\n",
    "smart_thermostat(21,True)"
   ]
  },
  {
   "cell_type": "code",
   "execution_count": 110,
   "metadata": {},
   "outputs": [
    {
     "name": "stdout",
     "output_type": "stream",
     "text": [
      "Calefacción \u001b[1mApagada\u001b[0m\n"
     ]
    }
   ],
   "source": [
    "# Code cell 13\n",
    "# Verify smart_thermostat()\n",
    "smart_thermostat(21,False)"
   ]
  },
  {
   "cell_type": "markdown",
   "metadata": {},
   "source": [
    "#### 13) La función zip(list1, list2) devuelve una lista de tuplas, donde la tupla i-th contiene el elemento i-th de cada una de las listas de argumento. Utilice la función zip para crear la siguiente lista de tuplas:"
   ]
  },
  {
   "cell_type": "markdown",
   "metadata": {},
   "source": [
    "'comprimido = [(“Estacionamiento”, -1), (“Negocios”, 0), (“Área de restaurantes”, 1), (“oficinas”, 2)]'"
   ]
  },
  {
   "cell_type": "code",
   "execution_count": 114,
   "metadata": {},
   "outputs": [
    {
     "name": "stdout",
     "output_type": "stream",
     "text": [
      "Lista con argumento \n",
      "\n",
      "('Parking', -1)\n",
      "('Shops', 0)\n",
      "('Food Court', 1)\n",
      "('Offices', 2)\n"
     ]
    }
   ],
   "source": [
    "# Code cell 14\n",
    "floor_types = ['Parking', 'Shops', 'Food Court', 'Offices']\n",
    "floor_numbers = range(-1,3)\n",
    "zipped = list(zip(floor_types, floor_numbers)) \n",
    "#print(zipped)\n",
    "\n",
    "print('Lista con argumento \\n')\n",
    "for item in zipped:\n",
    "    print(item)"
   ]
  },
  {
   "cell_type": "markdown",
   "metadata": {},
   "source": [
    "#### 14) Utilice la función zip y dict() para crear un diccionario, elevator_dict, donde las teclas sean los tipos de piso y los valores sean el número correspondiente del piso, de modo que:\n",
    "elevator_dict[- 1] = “Estacionamiento”"
   ]
  },
  {
   "cell_type": "code",
   "execution_count": 127,
   "metadata": {},
   "outputs": [
    {
     "name": "stdout",
     "output_type": "stream",
     "text": [
      "Diccionario Completo \n",
      "\n",
      "{-1: 'Parking', 0: 'Shops', 1: 'Food Court', 2: 'Offices'} \n",
      "\n",
      "Sólo valores\n",
      "\n",
      "Parking\n",
      "Shops\n",
      "Food Court\n",
      "Offices\n"
     ]
    }
   ],
   "source": [
    "# Code cell 15\n",
    "floor_types = ['Parking', 'Shops', 'Food Court', 'Offices']\n",
    "floors_numbers = range(-1,3)\n",
    "elevator_dict = dict(zip(floor_numbers, floor_types))\n",
    "print('Diccionario Completo \\n')\n",
    "print(elevator_dict,'\\n')\n",
    "\n",
    "print('Sólo valores\\n')\n",
    "elevador = elevator_dict.values()\n",
    "\n",
    "for item in elevador:\n",
    "    print(item)\n"
   ]
  },
  {
   "cell_type": "code",
   "execution_count": 128,
   "metadata": {},
   "outputs": [
    {
     "data": {
      "text/plain": [
       "'Parking'"
      ]
     },
     "execution_count": 128,
     "metadata": {},
     "output_type": "execute_result"
    }
   ],
   "source": [
    "# Code cell 16\n",
    "# Verify elevator_dict[-1]\n",
    "elevator_dict[-1]"
   ]
  },
  {
   "cell_type": "markdown",
   "metadata": {},
   "source": [
    "#### 15) Cree una clase de 'Ascensor'. El constructor acepta la lista de cadenas 'floor_types' y la lista de números enteros 'floor_numbers'. La clase implementa los métodos 'ask_which_floor' y 'go_to_floor'. La salida de estos métodos debe verse de la siguiente manera:\n",
    "`floor_types = ['Estacionamiento', 'Negocios', 'Área de restaurantes', 'Oficinas']\n",
    "floors_numbers = rango(-1,4)\n",
    "\n",
    "el = Elevador(floor_numbers, floor_types)\n",
    "\n",
    "el.go_to_floor(1)`\n",
    "\n",
    "`¡Vaya al piso del área de restaurantes!`\n",
    "\n",
    "`el.go_to_floor(-2)`\n",
    "\n",
    "`En este edificio está el piso número -2.`\n",
    "\n",
    "`El.ask_which_floor('Oficinas')`\n",
    "\n",
    "`El piso de oficinas es el número: 2`\n",
    "\n",
    "`El.ask_which_floor('Piscina')`\n",
    "\n",
    "`No hay ningún piso con piscina en este edificio.`"
   ]
  },
  {
   "cell_type": "code",
   "execution_count": 158,
   "metadata": {},
   "outputs": [],
   "source": [
    "# Code cell 17\n",
    "floor_types = ['Estacionamiento', 'Negocios', 'Área de restaurantes', 'Oficinas']\n",
    "floor_numbers = range(-1,4)\n",
    "\n",
    "class Elevator:\n",
    "    \n",
    "    def __init__(self, floor_numbers, floor_types):\n",
    "        self._floor_numbers = floor_numbers\n",
    "        self._floor_types = floor_types\n",
    "        self._number_to_type_dict = dict(zip(floor_numbers, floor_types)) \n",
    "        self._type_to_number_dict = dict(zip(floor_types, floor_numbers)) \n",
    "        \n",
    "    def ask_which_floor(self, floor_type):    \n",
    "        if floor_type in self._floor_types:\n",
    "            print('El piso de {} es el número: {}.'.format(floor_type, self._type_to_number_dict[floor_type]))\n",
    "        else:\n",
    "            print('No hay ningún piso de {} en este edificio.'.format(floor_type))\n",
    "    \n",
    "    def go_to_floor(self, floor_number):\n",
    "        if floor_number in self._floor_numbers:\n",
    "            print('Vaya al piso {} es: {}.'.format(floor_number, self._number_to_type_dict[floor_number]))\n",
    "        else:\n",
    "            print('En este edificio esta el piso número {}'.format(floor_number))"
   ]
  },
  {
   "cell_type": "code",
   "execution_count": 159,
   "metadata": {},
   "outputs": [
    {
     "name": "stdout",
     "output_type": "stream",
     "text": [
      "Vaya al piso 1 es: Área de restaurantes.\n"
     ]
    }
   ],
   "source": [
    "# Verify code cell 18\n",
    "el = Elevator(floor_numbers, floor_types)\n",
    "el.go_to_floor(1)"
   ]
  },
  {
   "cell_type": "code",
   "execution_count": 160,
   "metadata": {},
   "outputs": [
    {
     "name": "stdout",
     "output_type": "stream",
     "text": [
      "En este edificio esta el piso número -2\n"
     ]
    }
   ],
   "source": [
    "# Verify code cell 19\n",
    "el.go_to_floor(-2)"
   ]
  },
  {
   "cell_type": "code",
   "execution_count": 161,
   "metadata": {
    "scrolled": true
   },
   "outputs": [
    {
     "name": "stdout",
     "output_type": "stream",
     "text": [
      "El piso de Oficinas es el número: 2.\n"
     ]
    }
   ],
   "source": [
    "# Verify code cell 20\n",
    "el.ask_which_floor('Oficinas')"
   ]
  },
  {
   "cell_type": "code",
   "execution_count": 162,
   "metadata": {},
   "outputs": [
    {
     "name": "stdout",
     "output_type": "stream",
     "text": [
      "No hay ningún piso de Swimming Pool en este edificio.\n"
     ]
    }
   ],
   "source": [
    "# Verify code cell 21\n",
    "el.ask_which_floor('Swimming Pool')"
   ]
  },
  {
   "cell_type": "markdown",
   "metadata": {},
   "source": [
    "# ¡Excelente trabajo!"
   ]
  },
  {
   "cell_type": "markdown",
   "metadata": {
    "collapsed": true
   },
   "source": [
    "<font size='0.5'>© 2017 Cisco y/o sus filiales. Todos los derechos reservados. Este documento es información pública de Cisco.<font>"
   ]
  }
 ],
 "metadata": {
  "anaconda-cloud": {},
  "kernelspec": {
   "display_name": "Python 3",
   "language": "python",
   "name": "python3"
  },
  "language_info": {
   "codemirror_mode": {
    "name": "ipython",
    "version": 3
   },
   "file_extension": ".py",
   "mimetype": "text/x-python",
   "name": "python",
   "nbconvert_exporter": "python",
   "pygments_lexer": "ipython3",
   "version": "3.8.8"
  }
 },
 "nbformat": 4,
 "nbformat_minor": 1
}
